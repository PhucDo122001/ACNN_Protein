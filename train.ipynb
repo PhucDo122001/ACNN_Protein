{
 "cells": [
  {
   "cell_type": "code",
   "execution_count": 1,
   "metadata": {},
   "outputs": [
    {
     "name": "stderr",
     "output_type": "stream",
     "text": [
      "2023-12-31 03:11:13.711804: I tensorflow/tsl/cuda/cudart_stub.cc:28] Could not find cuda drivers on your machine, GPU will not be used.\n",
      "2023-12-31 03:11:13.741081: I tensorflow/tsl/cuda/cudart_stub.cc:28] Could not find cuda drivers on your machine, GPU will not be used.\n",
      "2023-12-31 03:11:13.741896: I tensorflow/core/platform/cpu_feature_guard.cc:182] This TensorFlow binary is optimized to use available CPU instructions in performance-critical operations.\n",
      "To enable the following instructions: AVX2 FMA, in other operations, rebuild TensorFlow with the appropriate compiler flags.\n",
      "2023-12-31 03:11:14.260385: W tensorflow/compiler/tf2tensorrt/utils/py_utils.cc:38] TF-TRT Warning: Could not find TensorRT\n",
      "Skipped loading modules with pytorch-geometric dependency, missing a dependency. No module named 'torch_geometric'\n",
      "Skipped loading modules with pytorch-geometric dependency, missing a dependency. cannot import name 'DMPNN' from 'deepchem.models.torch_models' (/home/gonda/anaconda3/envs/308/lib/python3.8/site-packages/deepchem/models/torch_models/__init__.py)\n",
      "Skipped loading modules with pytorch-lightning dependency, missing a dependency. No module named 'pytorch_lightning'\n",
      "Skipped loading some Jax models, missing a dependency. No module named 'jax'\n"
     ]
    }
   ],
   "source": [
    "import deepchem as dc\n",
    "import os\n",
    "\n",
    "import numpy as np\n",
    "# import tensorflow as tf\n",
    "\n",
    "import matplotlib.pyplot as plt\n",
    "import joblib\n",
    "\n",
    "from rdkit import Chem\n",
    "\n",
    "from deepchem.molnet import load_pdbbind\n",
    "\n",
    "from deepchem.models import AtomicConvModel\n",
    "from deepchem.feat import AtomicConvFeaturizer\n"
   ]
  },
  {
   "cell_type": "code",
   "execution_count": 2,
   "metadata": {},
   "outputs": [
    {
     "name": "stderr",
     "output_type": "stream",
     "text": [
      "/home/gonda/anaconda3/envs/308/lib/python3.8/site-packages/deepchem/feat/base_classes.py:213: VisibleDeprecationWarning: Creating an ndarray from ragged nested sequences (which is a list-or-tuple of lists-or-tuples-or ndarrays with different lengths or shapes) is deprecated. If you meant to do this, you must specify 'dtype=object' when creating the ndarray.\n",
      "  return np.asarray(features)\n"
     ]
    }
   ],
   "source": [
    "\n",
    "f1_num_atoms = 100  # maximum number of atoms to consider in the ligand\n",
    "f2_num_atoms = 1000  # maximum number of atoms to consider in the protein\n",
    "max_num_neighbors = 12  # maximum number of spatial neighbors for an atom\n",
    "\n",
    "acf = AtomicConvFeaturizer(frag1_num_atoms=f1_num_atoms,\n",
    "                      frag2_num_atoms=f2_num_atoms,\n",
    "                      complex_num_atoms=f1_num_atoms+f2_num_atoms,\n",
    "                      max_num_neighbors=max_num_neighbors,\n",
    "                      neighbor_cutoff=4)\n",
    "tasks, datasets, transformers = load_pdbbind(featurizer=acf,\n",
    "                                             save_dir='.',\n",
    "                                             data_dir='.',\n",
    "                                             pocket=True,\n",
    "                                             reload=False,\n",
    "                                             set_name='core')\n"
   ]
  },
  {
   "cell_type": "markdown",
   "metadata": {},
   "source": [
    "# Transform Data"
   ]
  },
  {
   "cell_type": "code",
   "execution_count": 3,
   "metadata": {},
   "outputs": [],
   "source": [
    "class MyTransformer(dc.trans.Transformer):\n",
    "  def transform_array(x, y, w, ids):\n",
    "    kept_rows = x != None\n",
    "    X_reshaped = np.squeeze(x[kept_rows], axis=0)  # Remove the first dimension\n",
    "    Y_reshaped = np.squeeze(y[kept_rows], axis=0)  # Remove the first dimension\n",
    "    W_reshaped = np.squeeze(w[kept_rows], axis=0)  # Remove the first dimension\n",
    "    ID_reshaped = np.squeeze(ids[kept_rows], axis=0)  # Remove the first dimension\n",
    "    return X_reshaped, Y_reshaped, W_reshaped, ID_reshaped\n"
   ]
  },
  {
   "cell_type": "code",
   "execution_count": 4,
   "metadata": {},
   "outputs": [
    {
     "name": "stderr",
     "output_type": "stream",
     "text": [
      "/tmp/ipykernel_6245/2209377302.py:3: DeprecationWarning: elementwise comparison failed; this will raise an error in the future.\n",
      "  kept_rows = x != None\n",
      "/tmp/ipykernel_6245/2209377302.py:3: DeprecationWarning: elementwise comparison failed; this will raise an error in the future.\n",
      "  kept_rows = x != None\n",
      "/tmp/ipykernel_6245/2209377302.py:3: DeprecationWarning: elementwise comparison failed; this will raise an error in the future.\n",
      "  kept_rows = x != None\n"
     ]
    },
    {
     "data": {
      "text/plain": [
       "3"
      ]
     },
     "execution_count": 4,
     "metadata": {},
     "output_type": "execute_result"
    }
   ],
   "source": [
    "datasets = [d.transform(MyTransformer) for d in datasets]\n",
    "len(datasets)"
   ]
  },
  {
   "cell_type": "markdown",
   "metadata": {},
   "source": [
    "# Split datasets into train, validation, test"
   ]
  },
  {
   "cell_type": "code",
   "execution_count": 5,
   "metadata": {},
   "outputs": [],
   "source": [
    "train, val, test = datasets"
   ]
  },
  {
   "cell_type": "markdown",
   "metadata": {},
   "source": [
    "# ACNN"
   ]
  },
  {
   "cell_type": "code",
   "execution_count": 6,
   "metadata": {},
   "outputs": [
    {
     "name": "stdout",
     "output_type": "stream",
     "text": [
      "BEGIN TRAIN\n",
      "DONE\n"
     ]
    }
   ],
   "source": [
    "acm = AtomicConvModel(n_tasks=1,\n",
    "                      frag1_num_atoms=f1_num_atoms,\n",
    "                      frag2_num_atoms=f2_num_atoms,\n",
    "                      complex_num_atoms=f1_num_atoms+f2_num_atoms,\n",
    "                      max_num_neighbors=max_num_neighbors,\n",
    "                      batch_size=4,\n",
    "                      layer_sizes=[32, 32, 16],\n",
    "                      learning_rate=0.003,\n",
    "                      )\n",
    "losses, val_losses = [], []\n",
    "#max_epochs = 50\n",
    "max_epochs = 1\n",
    "\n",
    "metric = dc.metrics.Metric(dc.metrics.score_function.rms_score)\n",
    "step_cutoff = len(train)//12\n",
    "\n",
    "def val_cb(model, step):\n",
    "  if step%step_cutoff!=0:\n",
    "      return\n",
    "  val_losses.append(model.evaluate(val, metrics=[metric])['rms_score']**2)  # L2 Loss\n",
    "  losses.append(model.evaluate(train, metrics=[metric])['rms_score']**2)  # L2 Loss\n",
    "\n",
    "print(\"BEGIN TRAIN\")\n",
    "acm.fit(train, nb_epoch=max_epochs, max_checkpoints_to_keep=1,\n",
    "                callbacks=[val_cb])\n",
    "print(\"DONE\")\n"
   ]
  },
  {
   "cell_type": "markdown",
   "metadata": {},
   "source": [
    "# Visualize loss function "
   ]
  },
  {
   "cell_type": "code",
   "execution_count": 7,
   "metadata": {},
   "outputs": [
    {
     "data": {
      "image/png": "[encoded data removed]",
      "text/plain": [
       "<Figure size 640x480 with 1 Axes>"
      ]
     },
     "metadata": {},
     "output_type": "display_data"
    }
   ],
   "source": [
    "f, ax = plt.subplots()\n",
    "ax.scatter(range(len(losses)), losses, label='train loss')\n",
    "ax.scatter(range(len(val_losses)), val_losses, label='val loss')\n",
    "plt.legend(loc='upper right');"
   ]
  },
  {
   "cell_type": "markdown",
   "metadata": {},
   "source": [
    "# Predict"
   ]
  },
  {
   "cell_type": "code",
   "execution_count": 8,
   "metadata": {},
   "outputs": [
    {
     "name": "stdout",
     "output_type": "stream",
     "text": [
      "[[[-0.32044953]]\n",
      "\n",
      " [[ 0.452116  ]]\n",
      "\n",
      " [[ 0.30610573]]\n",
      "\n",
      " [[ 0.47714704]]\n",
      "\n",
      " [[-0.75211746]]\n",
      "\n",
      " [[ 0.48390386]]\n",
      "\n",
      " [[ 0.4732465 ]]\n",
      "\n",
      " [[-1.3310952 ]]\n",
      "\n",
      " [[-1.7201221 ]]\n",
      "\n",
      " [[ 0.49994108]]\n",
      "\n",
      " [[ 0.07807195]]\n",
      "\n",
      " [[ 0.02046591]]\n",
      "\n",
      " [[ 0.06073958]]\n",
      "\n",
      " [[ 0.3761527 ]]\n",
      "\n",
      " [[ 0.4957866 ]]\n",
      "\n",
      " [[ 0.13985938]]\n",
      "\n",
      " [[-0.7110254 ]]\n",
      "\n",
      " [[-0.41258806]]\n",
      "\n",
      " [[ 0.46818817]]\n",
      "\n",
      " [[ 0.5050608 ]]]\n"
     ]
    }
   ],
   "source": [
    "npa = acm.predict(test)\n",
    "print(npa)"
   ]
  },
  {
   "cell_type": "code",
   "execution_count": 9,
   "metadata": {},
   "outputs": [],
   "source": [
    "data = np.array(npa)"
   ]
  },
  {
   "cell_type": "markdown",
   "metadata": {},
   "source": [
    "# Mapping Data with PDB "
   ]
  },
  {
   "cell_type": "code",
   "execution_count": 10,
   "metadata": {},
   "outputs": [],
   "source": [
    "mapping_dict = {}\n",
    "\n",
    "for value, array in zip(test.ids, data):\n",
    "    mapping_dict[value] = array"
   ]
  },
  {
   "cell_type": "code",
   "execution_count": 11,
   "metadata": {},
   "outputs": [
    {
     "data": {
      "text/plain": [
       "{'4de2': array([[-0.32044953]], dtype=float32),\n",
       " '2w66': array([[0.452116]], dtype=float32),\n",
       " '3ov1': array([[0.30610573]], dtype=float32),\n",
       " '3pe2': array([[0.47714704]], dtype=float32),\n",
       " '2ole': array([[-0.75211746]], dtype=float32),\n",
       " '2d1o': array([[0.48390386]], dtype=float32),\n",
       " '3cyx': array([[0.4732465]], dtype=float32),\n",
       " '1a30': array([[-1.3310952]], dtype=float32),\n",
       " '3f3e': array([[-1.7201221]], dtype=float32),\n",
       " '1os0': array([[0.49994108]], dtype=float32),\n",
       " '3g2n': array([[0.07807195]], dtype=float32),\n",
       " '1sln': array([[0.02046591]], dtype=float32),\n",
       " '2gss': array([[0.06073958]], dtype=float32),\n",
       " '3fk1': array([[0.3761527]], dtype=float32),\n",
       " '1igj': array([[0.4957866]], dtype=float32),\n",
       " '3udh': array([[0.13985938]], dtype=float32),\n",
       " '3pxf': array([[-0.7110254]], dtype=float32),\n",
       " '3ao4': array([[-0.41258806]], dtype=float32),\n",
       " '3uo4': array([[0.46818817]], dtype=float32),\n",
       " '1f8b': array([[0.5050608]], dtype=float32)}"
      ]
     },
     "execution_count": 11,
     "metadata": {},
     "output_type": "execute_result"
    }
   ],
   "source": [
    "mapping_dict "
   ]
  }
 ],
 "metadata": {
  "kernelspec": {
   "display_name": "acnn",
   "language": "python",
   "name": "python3"
  },
  "language_info": {
   "codemirror_mode": {
    "name": "ipython",
    "version": 3
   },
   "file_extension": ".py",
   "mimetype": "text/x-python",
   "name": "python",
   "nbconvert_exporter": "python",
   "pygments_lexer": "ipython3",
   "version": "3.8.18"
  }
 },
 "nbformat": 4,
 "nbformat_minor": 2
}
