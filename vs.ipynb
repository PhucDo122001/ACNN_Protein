{
 "cells": [
  {
   "cell_type": "code",
   "execution_count": 1,
   "metadata": {},
   "outputs": [
    {
     "name": "stderr",
     "output_type": "stream",
     "text": [
      "2023-12-31 03:05:41.970082: I tensorflow/tsl/cuda/cudart_stub.cc:28] Could not find cuda drivers on your machine, GPU will not be used.\n",
      "2023-12-31 03:05:42.697699: I tensorflow/tsl/cuda/cudart_stub.cc:28] Could not find cuda drivers on your machine, GPU will not be used.\n",
      "2023-12-31 03:05:42.700835: I tensorflow/core/platform/cpu_feature_guard.cc:182] This TensorFlow binary is optimized to use available CPU instructions in performance-critical operations.\n",
      "To enable the following instructions: AVX2 FMA, in other operations, rebuild TensorFlow with the appropriate compiler flags.\n",
      "2023-12-31 03:05:43.535971: W tensorflow/compiler/tf2tensorrt/utils/py_utils.cc:38] TF-TRT Warning: Could not find TensorRT\n",
      "Skipped loading modules with pytorch-geometric dependency, missing a dependency. No module named 'torch_geometric'\n",
      "Skipped loading modules with pytorch-geometric dependency, missing a dependency. cannot import name 'DMPNN' from 'deepchem.models.torch_models' (/home/gonda/anaconda3/envs/308/lib/python3.8/site-packages/deepchem/models/torch_models/__init__.py)\n",
      "Skipped loading modules with pytorch-lightning dependency, missing a dependency. No module named 'pytorch_lightning'\n",
      "Skipped loading some Jax models, missing a dependency. No module named 'jax'\n"
     ]
    }
   ],
   "source": [
    "import os\n",
    "import numpy as np\n",
    "import pandas as pd\n",
    "\n",
    "import tempfile\n",
    "\n",
    "from rdkit import Chem\n",
    "from rdkit.Chem import AllChem\n",
    "import deepchem as dc\n",
    "\n",
    "from deepchem.utils import download_url, load_from_disk"
   ]
  },
  {
   "cell_type": "code",
   "execution_count": 5,
   "metadata": {},
   "outputs": [
    {
     "name": "stdout",
     "output_type": "stream",
     "text": [
      "File does not exist. Downloading file...\n",
      "File downloaded...\n"
     ]
    }
   ],
   "source": [
    "data_dir = dc.utils.get_data_dir()\n",
    "dataset_file = os.path.join(data_dir, \"pdbbind_core_df.csv.gz\")\n",
    "\n",
    "if not os.path.exists(dataset_file):\n",
    "    print('File does not exist. Downloading file...')\n",
    "    download_url(\"https://s3-us-west-1.amazonaws.com/deepchem.io/datasets/pdbbind_core_df.csv.gz\")\n",
    "    print('File downloaded...')\n",
    "\n",
    "raw_dataset = load_from_disk(dataset_file)\n",
    "raw_dataset = raw_dataset[['pdb_id', 'smiles', 'label']]\n",
    "\n",
    "from openmm.app import PDBFile\n",
    "from pdbfixer import PDBFixer\n",
    "\n",
    "from deepchem.utils.vina_utils import prepare_inputs"
   ]
  },
  {
   "cell_type": "code",
   "execution_count": 10,
   "metadata": {},
   "outputs": [
    {
     "name": "stderr",
     "output_type": "stream",
     "text": [
      "/tmp/ipykernel_5355/2600457517.py:10: DeprecationWarning: Call to deprecated function prepare_inputs. Please use the corresponding function in deepchem.utils.docking_utils.\n",
      "  p, m = prepare_inputs('%s.pdb' % (pdbid), ligand)\n"
     ]
    },
    {
     "name": "stdout",
     "output_type": "stream",
     "text": [
      "3cyx 1510\n"
     ]
    }
   ],
   "source": [
    "\n",
    "pdbid = raw_dataset['pdb_id'].iloc[1]\n",
    "ligand = raw_dataset['smiles'].iloc[1]\n",
    "\n",
    "fixer = PDBFixer(pdbid=pdbid)\n",
    "PDBFile.writeFile(fixer.topology, fixer.positions, open('%s.pdb' % (pdbid), 'w'))\n",
    "\n",
    "p, m = None, None\n",
    "# fix protein, optimize ligand geometry, and sanitize molecules\n",
    "try:\n",
    "    p, m = prepare_inputs('%s.pdb' % (pdbid), ligand)\n",
    "except:\n",
    "    print('%s failed PDB fixing' % (pdbid)) \n",
    "\n",
    "if p and m:  # protein and molecule are readable by RDKit\n",
    "    print(pdbid, p.GetNumAtoms())\n",
    "    Chem.rdmolfiles.MolToPDBFile(p, 'display/protein_%s.pdb' % (pdbid))\n",
    "    Chem.rdmolfiles.MolToPDBFile(m, 'display/ligand_%s.pdb' % (pdbid))\n",
    "    \n"
   ]
  },
  {
   "cell_type": "code",
   "execution_count": 16,
   "metadata": {},
   "outputs": [],
   "source": [
    "import mdtraj as md\n",
    "import nglview\n",
    "\n",
    "from IPython.display import display, Image\n",
    "\n",
    "protein_mdtraj = md.load_pdb( 'display/protein_%s.pdb' % (pdbid))\n",
    "ligand_mdtraj = md.load_pdb('display/ligand_%s.pdb' % (pdbid))\n",
    "\n",
    "\n",
    "p = nglview.show_mdtraj(protein_mdtraj)\n",
    "l = nglview.show_mdtraj(ligand_mdtraj)\n",
    "# nglview.write_html(\"index.html\",[v])\n"
   ]
  },
  {
   "cell_type": "code",
   "execution_count": 17,
   "metadata": {},
   "outputs": [
    {
     "data": {
      "application/vnd.jupyter.widget-view+json": {
       "model_id": "368480420ec04171b7a6d349cdcd96cb",
       "version_major": 2,
       "version_minor": 0
      },
      "text/plain": [
       "NGLWidget()"
      ]
     },
     "metadata": {},
     "output_type": "display_data"
    }
   ],
   "source": [
    "display(p)"
   ]
  },
  {
   "cell_type": "code",
   "execution_count": 18,
   "metadata": {},
   "outputs": [
    {
     "data": {
      "application/vnd.jupyter.widget-view+json": {
       "model_id": "33769637200c4e16895436255a560571",
       "version_major": 2,
       "version_minor": 0
      },
      "text/plain": [
       "NGLWidget()"
      ]
     },
     "metadata": {},
     "output_type": "display_data"
    }
   ],
   "source": [
    "display(l)"
   ]
  }
 ],
 "metadata": {
  "kernelspec": {
   "display_name": "308",
   "language": "python",
   "name": "python3"
  },
  "language_info": {
   "codemirror_mode": {
    "name": "ipython",
    "version": 3
   },
   "file_extension": ".py",
   "mimetype": "text/x-python",
   "name": "python",
   "nbconvert_exporter": "python",
   "pygments_lexer": "ipython3",
   "version": "3.8.18"
  }
 },
 "nbformat": 4,
 "nbformat_minor": 2
}
